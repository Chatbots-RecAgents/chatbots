{
 "cells": [
  {
   "cell_type": "code",
   "execution_count": 1,
   "metadata": {},
   "outputs": [],
   "source": [
    "import json\n",
    "from tkinter import Tk, Entry, Button, Text, messagebox\n",
    "import os"
   ]
  },
  {
   "cell_type": "code",
   "execution_count": 2,
   "metadata": {},
   "outputs": [
    {
     "name": "stderr",
     "output_type": "stream",
     "text": [
      "2024-01-28 18:19:05.028 python[11230:342123] TSM AdjustCapsLockLEDForKeyTransitionHandling - _ISSetPhysicalKeyboardCapsLockLED Inhibit\n"
     ]
    }
   ],
   "source": [
    "class ChatbotApp:\n",
    "    def __init__(self, root):\n",
    "        self.root = root\n",
    "        self.root.title(\"Chatbot\")\n",
    "        self.user_data = {}\n",
    "\n",
    "        if os.path.exists('user_data.json'):\n",
    "            with open('user_data.json', 'r') as f:\n",
    "                self.user_data = json.load(f)\n",
    "\n",
    "        self.conversation = [\n",
    "            \"Hi there! What's your name?\",\n",
    "            \"Nice to meet you, {}. How old are you?\",\n",
    "            \"What is your major or field of study?\",\n",
    "            \"What are your hobbies?\",\n",
    "            \"Where are you from (your nationality)?\",\n",
    "            \"What language(s) do you speak?\"\n",
    "        ]\n",
    "        self.current_step = 0\n",
    "\n",
    "        # Create a Text widget to display conversation messages\n",
    "        self.chat_text = Text(root, height=20, width=60, wrap=\"word\", padx=10, pady=10)\n",
    "        self.chat_text.grid(row=0, column=0, columnspan=2)\n",
    "        self.chat_text.tag_config(\"bot_message\", foreground=\"blue\")  # Style for bot messages\n",
    "        self.chat_text.tag_config(\"user_message\", foreground=\"black\")  # Style for user messages\n",
    "        self.display_message(self.conversation[self.current_step], bot=True)\n",
    "\n",
    "        # Entry for user input\n",
    "        self.user_input = Entry(root, width=50)\n",
    "        self.user_input.grid(row=1, column=0, padx=10, pady=5)\n",
    "\n",
    "        # Button to submit user input\n",
    "        self.submit_button = Button(root, text=\"Send\", command=self.submit_input)\n",
    "        self.submit_button.grid(row=1, column=1, pady=5)\n",
    "\n",
    "    def display_message(self, message, bot=False):\n",
    "        if '{}' in message:\n",
    "            name = self.user_data.get(\"Name\", \"Friend\")  \n",
    "            message = message.format(name)\n",
    "        if bot:\n",
    "            self.chat_text.insert('end', \"Bot: \" + message + \"\\n\\n\", \"bot_message\")\n",
    "        else:\n",
    "            self.chat_text.insert('end', \"You: \" + message + \"\\n\\n\", \"user_message\")\n",
    "        self.chat_text.see('end')\n",
    "\n",
    "        if bot:\n",
    "            self.chat_text.tag_config(\"bot_message\", foreground=\"light blue\")\n",
    "        else:\n",
    "            self.chat_text.tag_config(\"user_message\", foreground=\"white\")\n",
    "\n",
    "    def submit_input(self):\n",
    "        user_response = self.user_input.get()\n",
    "\n",
    "        # Store user response in user_data dictionary\n",
    "        field = self.conversation[self.current_step]\n",
    "        self.user_data[field] = user_response\n",
    "\n",
    "        self.display_message(user_response, bot=False)  # Display user's response\n",
    "\n",
    "        self.current_step += 1\n",
    "\n",
    "        if self.current_step < len(self.conversation):\n",
    "            # Display the next prompt in the conversation\n",
    "            next_prompt = self.conversation[self.current_step]\n",
    "            self.display_message(next_prompt, bot=True)\n",
    "\n",
    "            # Clear the user input field\n",
    "            self.user_input.delete(0, 'end')\n",
    "        else:\n",
    "            # Load existing data from JSON file if it exists\n",
    "            if os.path.exists('user_data.json'):\n",
    "                with open('user_data.json', 'r') as f:\n",
    "                    existing_data = json.load(f)\n",
    "            else:\n",
    "                existing_data = {}  # Create an empty dictionary if the file doesn't exist\n",
    "\n",
    "            # Update the existing data with new user data\n",
    "            existing_data.update(self.user_data)\n",
    "\n",
    "            # Save the updated data to the JSON file\n",
    "            with open('user_data.json', 'w') as f:\n",
    "                json.dump(existing_data, f, indent=4)\n",
    "\n",
    "            # Display success message\n",
    "            messagebox.showinfo(\"Success\", \"Data saved successfully!\")\n",
    "\n",
    "            # Close the application\n",
    "            self.root.destroy()\n",
    "\n",
    "# Create an instance of Tk\n",
    "root = Tk()\n",
    "\n",
    "# Create an instance of ChatbotApp\n",
    "app = ChatbotApp(root)\n",
    "\n",
    "# Start the GUI event loop\n",
    "root.mainloop()"
   ]
  },
  {
   "cell_type": "code",
   "execution_count": null,
   "metadata": {},
   "outputs": [],
   "source": []
  }
 ],
 "metadata": {
  "kernelspec": {
   "display_name": "Python 3.11.5 ('base')",
   "language": "python",
   "name": "python3"
  },
  "language_info": {
   "codemirror_mode": {
    "name": "ipython",
    "version": 3
   },
   "file_extension": ".py",
   "mimetype": "text/x-python",
   "name": "python",
   "nbconvert_exporter": "python",
   "pygments_lexer": "ipython3",
   "version": "3.11.5"
  },
  "orig_nbformat": 4,
  "vscode": {
   "interpreter": {
    "hash": "57a1005a3c862928e5a7269f0aff814d460add4046253b0bb8ea01b61507fb02"
   }
  }
 },
 "nbformat": 4,
 "nbformat_minor": 2
}
